{
  "cells": [
    {
      "cell_type": "markdown",
      "metadata": {
        "id": "view-in-github",
        "colab_type": "text"
      },
      "source": [
        "<a href=\"https://colab.research.google.com/github/Hesam09122/Hesam_INFO_5731_fall2025/blob/main/Akbari_hesam_Exercise_01.ipynb\" target=\"_parent\"><img src=\"https://colab.research.google.com/assets/colab-badge.svg\" alt=\"Open In Colab\"/></a>"
      ]
    },
    {
      "cell_type": "markdown",
      "metadata": {
        "id": "DymRJbxDBCnf"
      },
      "source": [
        "# **INFO5731 Assiginment 1**\n",
        "\n",
        "This exercise covers a variety of fundamental concepts in Python and is designed to help students improve their coding skills and problem-solving abilities.\n",
        "\n",
        "**Expectations**:\n",
        "*   Students are expected to complete the exercise during lecture period to meet the active participation criteria of the course.\n",
        "*   Use the provided .*ipynb* document to write your code & respond to the questions. Avoid generating a new file.\n",
        "*   Write complete answers and run all the cells before submission.\n",
        "*   Make sure the submission is \"clean\"; *i.e.*, no unnecessary code cells.\n",
        "*   Once finished, allow shared rights from top right corner (*see Canvas for details*).\n",
        "\n",
        "**Total points**: 100\n",
        "\n",
        "**Deadline**: This Assiginment-1 is due by Sunday Midnight\n",
        "\n",
        "**Late submissions cannot be considered, and no requests will be answered. Manage your time accordingly.**\n"
      ]
    },
    {
      "cell_type": "markdown",
      "source": [
        "## Question 1\n",
        "Write a Python program that  prompts the user to input the length and width of a rectangle, and then calculates and displays the area of the rectangle."
      ],
      "metadata": {
        "id": "FBKvD6O_TY6e"
      }
    },
    {
      "cell_type": "code",
      "source": [
        "# Program to calculate the area of a rectangle\n",
        "\n",
        "# Prompt user for input\n",
        "length = float(input(\"Enter the length of the rectangle: \"))\n",
        "width = float(input(\"Enter the width of the rectangle: \"))\n",
        "\n",
        "# Calculate area\n",
        "area = length * width\n",
        "\n",
        "# Display result\n",
        "print(\"The area of the rectangle is:\", area)\n"
      ],
      "metadata": {
        "id": "cikVKDXdTbzE",
        "colab": {
          "base_uri": "https://localhost:8080/"
        },
        "outputId": "6ab030eb-845c-4d40-bcf5-3f129f140512"
      },
      "execution_count": 26,
      "outputs": [
        {
          "output_type": "stream",
          "name": "stdout",
          "text": [
            "Enter the length of the rectangle: 10\n",
            "Enter the width of the rectangle: 1\n",
            "The area of the rectangle is: 10.0\n"
          ]
        }
      ]
    },
    {
      "cell_type": "markdown",
      "source": [
        "## Question 2\n",
        "Create a Python program that interactively takes two numerical inputs from the user and swaps their values without utilizing an extra variable."
      ],
      "metadata": {
        "id": "E9RqrlwdTfvl"
      }
    },
    {
      "cell_type": "code",
      "source": [
        "# Program to swap two numbers without using an extra variable\n",
        "\n",
        "# Take input from the user\n",
        "a = float(input(\"Enter the first number: \"))\n",
        "b = float(input(\"Enter the second number: \"))\n",
        "\n",
        "print(f\"\\nBefore swapping: a = {a}, b = {b}\")\n",
        "\n",
        "# Swap using arithmetic (no extra variable)\n",
        "a, b = b, a\n",
        "\n",
        "print(f\"After swapping: a = {a}, b = {b}\")\n"
      ],
      "metadata": {
        "id": "4XvRknixTh1g",
        "colab": {
          "base_uri": "https://localhost:8080/"
        },
        "outputId": "456a4101-afbc-4bc6-e5f9-fb1ecffd3962"
      },
      "execution_count": 27,
      "outputs": [
        {
          "output_type": "stream",
          "name": "stdout",
          "text": [
            "Enter the first number: 2\n",
            "Enter the second number: 3\n",
            "\n",
            "Before swapping: a = 2.0, b = 3.0\n",
            "After swapping: a = 3.0, b = 2.0\n"
          ]
        }
      ]
    },
    {
      "cell_type": "markdown",
      "metadata": {
        "id": "03jb4GZsBkBS"
      },
      "source": [
        "## Question 3\n",
        "Write a Python script to determine and print the length of a user-input string."
      ]
    },
    {
      "cell_type": "code",
      "execution_count": 28,
      "metadata": {
        "id": "YaGLbSHHB8Ej",
        "colab": {
          "base_uri": "https://localhost:8080/"
        },
        "outputId": "d805c51b-f2c8-410c-ca67-cf6a76b85318"
      },
      "outputs": [
        {
          "output_type": "stream",
          "name": "stdout",
          "text": [
            "Enter a string: hesam\n",
            "The length of the string is: 5\n"
          ]
        }
      ],
      "source": [
        "# Program to find the length of a string\n",
        "\n",
        "# Take input from the user\n",
        "user_string = input(\"Enter a string: \")\n",
        "\n",
        "# Find the length using len()\n",
        "length = len(user_string)\n",
        "\n",
        "# Display the result\n",
        "print(\"The length of the string is:\", length)\n"
      ]
    },
    {
      "cell_type": "markdown",
      "metadata": {
        "id": "jJDe71iLB616"
      },
      "source": [
        "## Question 4\n",
        "Construct a Python program that counts and displays the occurrences of each character in a given string.\n",
        "\n",
        "Sample String: 'openai.ai',\n",
        "\n",
        "Expected Result: {'a': 2, 'i': 2, '.': 1, 'o': 1, 'p': 1, 'e': 1, 'n': 1}"
      ]
    },
    {
      "cell_type": "code",
      "execution_count": 34,
      "metadata": {
        "id": "MtKskTzbCLaU",
        "colab": {
          "base_uri": "https://localhost:8080/"
        },
        "outputId": "92e41984-957a-427d-9a10-6a99769e9da9"
      },
      "outputs": [
        {
          "output_type": "stream",
          "name": "stdout",
          "text": [
            "Enter a string: i am in love with my research \n",
            "Character occurrences: {'i': 3, ' ': 7, 'a': 2, 'm': 2, 'n': 1, 'l': 1, 'o': 1, 'v': 1, 'e': 3, 'w': 1, 't': 1, 'h': 2, 'y': 1, 'r': 2, 's': 1, 'c': 1}\n"
          ]
        }
      ],
      "source": [
        "# Program to count character occurrences in a string\n",
        "\n",
        "# Take input from the user\n",
        "user_string = input(\"Enter a string: \")\n",
        "\n",
        "# Create an empty dictionary\n",
        "char_count = {}\n",
        "\n",
        "# Loop through each character in the string\n",
        "for char in user_string:\n",
        "    if char in char_count:\n",
        "        char_count[char] += 1\n",
        "    else:\n",
        "        char_count[char] = 1\n",
        "\n",
        "# Display the result\n",
        "print(\"Character occurrences:\", char_count)\n"
      ]
    },
    {
      "cell_type": "markdown",
      "metadata": {
        "id": "55W9AMdXCSpV"
      },
      "source": [
        "## Question 5\n",
        "Design a Python code to calculate the sum of all elements in a user-provided list."
      ]
    },
    {
      "cell_type": "code",
      "execution_count": 35,
      "metadata": {
        "id": "I57NXsauCec2",
        "colab": {
          "base_uri": "https://localhost:8080/"
        },
        "outputId": "3abdb5e1-fd19-47fd-c2e6-49e920fa72cd"
      },
      "outputs": [
        {
          "output_type": "stream",
          "name": "stdout",
          "text": [
            "Enter numbers separated by commas: 10, 20, 30, 40\n",
            "The sum of the list elements is: 100.0\n"
          ]
        }
      ],
      "source": [
        "# write your answer here\n",
        "# Program to calculate the sum of elements in a list\n",
        "\n",
        "# Take input from the user (comma-separated numbers)\n",
        "user_input = input(\"Enter numbers separated by commas: \")\n",
        "\n",
        "# Convert the input string into a list of numbers\n",
        "num_list = [float(x) for x in user_input.split(\",\")]\n",
        "\n",
        "# Calculate the sum\n",
        "total = sum(num_list)\n",
        "\n",
        "# Display the result\n",
        "print(\"The sum of the list elements is:\", total)\n"
      ]
    },
    {
      "cell_type": "markdown",
      "metadata": {
        "id": "4ulBZ6yhCi9F"
      },
      "source": [
        "## Question 6\n",
        "Write a Python program that modifies a given string by replacing all occurrences of its first character with '$', excluding the first character itself.\n",
        "\n",
        "\n",
        "Sample String : 'restart‘\n",
        "Expected Result : 'resta\\$t'"
      ]
    },
    {
      "cell_type": "code",
      "execution_count": 36,
      "metadata": {
        "id": "Fj0XhwbBCw2o",
        "colab": {
          "base_uri": "https://localhost:8080/"
        },
        "outputId": "e8295c40-8c38-48f2-bf82-6be4cdb71ee7"
      },
      "outputs": [
        {
          "output_type": "stream",
          "name": "stdout",
          "text": [
            "Enter a string: restart\n",
            "Modified string: resta$t\n"
          ]
        }
      ],
      "source": [
        "# write your answer here\n",
        "# Program to replace all occurrences of the first character with '$'\n",
        "# excluding the first character itself\n",
        "\n",
        "# Take input from the user\n",
        "user_string = input(\"Enter a string: \")\n",
        "\n",
        "# Get the first character\n",
        "first_char = user_string[0]\n",
        "\n",
        "# Replace all occurrences of the first character (except the first one)\n",
        "modified_string = first_char + user_string[1:].replace(first_char, '$')\n",
        "\n",
        "# Display the result\n",
        "print(\"Modified string:\", modified_string)\n"
      ]
    },
    {
      "cell_type": "markdown",
      "source": [
        "## Question 7\n",
        "Write a Python program using a while loop to compute the factorial of a user-supplied number."
      ],
      "metadata": {
        "id": "qVXA3q7ET5JI"
      }
    },
    {
      "cell_type": "code",
      "source": [
        "# write your answer here\n",
        "# Program to compute factorial using a while loop\n",
        "\n",
        "# Take input from the user\n",
        "num = int(input(\"Enter a non-negative integer: \"))\n",
        "\n",
        "# Initialize variables\n",
        "factorial = 1\n",
        "i = 1\n",
        "\n",
        "# Compute factorial using while loop\n",
        "while i <= num:\n",
        "    factorial *= i\n",
        "    i += 1\n",
        "\n",
        "# Display the result\n",
        "print(f\"The factorial of {num} is: {factorial}\")\n"
      ],
      "metadata": {
        "id": "Lbt7R6UkT7BA",
        "colab": {
          "base_uri": "https://localhost:8080/"
        },
        "outputId": "c9d63cd6-b35b-4d5a-98b4-0128bd85ce74"
      },
      "execution_count": 39,
      "outputs": [
        {
          "output_type": "stream",
          "name": "stdout",
          "text": [
            "Enter a non-negative integer: 5\n",
            "The factorial of 5 is: 120\n"
          ]
        }
      ]
    },
    {
      "cell_type": "markdown",
      "source": [
        "## Question 8\n",
        "Create a program that accepts a list of numbers as input and outputs a new list containing only the even numbers."
      ],
      "metadata": {
        "id": "6YfbzXMNT--R"
      }
    },
    {
      "cell_type": "code",
      "source": [
        "# write your answer here\n",
        "# Program to extract even numbers from a list\n",
        "\n",
        "# Take input from the user (comma-separated numbers)\n",
        "user_input = input(\"Enter numbers separated by commas: \")\n",
        "\n",
        "# Convert input string into a list of integers\n",
        "num_list = [int(x) for x in user_input.split(\",\")]\n",
        "\n",
        "# Extract even numbers\n",
        "even_list = [n for n in num_list if n % 2 == 0]\n",
        "\n",
        "# Display result\n",
        "print(\"Even numbers:\", even_list)\n"
      ],
      "metadata": {
        "id": "54q7wMQPUAKu",
        "colab": {
          "base_uri": "https://localhost:8080/"
        },
        "outputId": "0ce5caf5-a721-47bf-bf22-526b9e1c34a0"
      },
      "execution_count": 41,
      "outputs": [
        {
          "output_type": "stream",
          "name": "stdout",
          "text": [
            "Enter numbers separated by commas: 10, 15, 22, 33, 40, 55\n",
            "Even numbers: [10, 22, 40]\n"
          ]
        }
      ]
    },
    {
      "cell_type": "markdown",
      "metadata": {
        "id": "_bIP7s1MCzue"
      },
      "source": [
        "## Question 9\n",
        "Design a Python function to check if a number is prime.\n"
      ]
    },
    {
      "cell_type": "code",
      "execution_count": 42,
      "metadata": {
        "id": "w79QilHXD3Mg",
        "colab": {
          "base_uri": "https://localhost:8080/"
        },
        "outputId": "b70d83b6-2b3b-4bd7-f880-a514f1c7684e"
      },
      "outputs": [
        {
          "output_type": "stream",
          "name": "stdout",
          "text": [
            "Enter a number: 111\n",
            "111 is not a prime number.\n"
          ]
        }
      ],
      "source": [
        "# write your answer here\n",
        "# Function to check if a number is prime\n",
        "def is_prime(n):\n",
        "    if n <= 1:\n",
        "        return False\n",
        "    if n == 2:  # 2 is the only even prime\n",
        "        return True\n",
        "    if n % 2 == 0:  # eliminate other even numbers\n",
        "        return False\n",
        "\n",
        "    # check divisibility up to square root of n\n",
        "    i = 3\n",
        "    while i * i <= n:\n",
        "        if n % i == 0:\n",
        "            return False\n",
        "        i += 2\n",
        "    return True\n",
        "\n",
        "# Example usage\n",
        "num = int(input(\"Enter a number: \"))\n",
        "if is_prime(num):\n",
        "    print(f\"{num} is a prime number.\")\n",
        "else:\n",
        "    print(f\"{num} is not a prime number.\")\n"
      ]
    },
    {
      "cell_type": "markdown",
      "metadata": {
        "id": "xCa2bK9aD4Q3"
      },
      "source": [
        "## Question 10\n",
        "Write a Python program to concatenate following dictionaries to create a new one.\n",
        "\n",
        "Sample Dictionary : dic1={1:10, 2:20}, dic2={3:30, 4:40}, dic3={5:50,6:60},\n",
        "\n",
        "Expected Result : {1: 10, 2: 20, 3: 30, 4: 40, 5: 50, 6: 60}\n"
      ]
    },
    {
      "cell_type": "code",
      "execution_count": 43,
      "metadata": {
        "id": "_z4aLqAbEET1",
        "colab": {
          "base_uri": "https://localhost:8080/"
        },
        "outputId": "9cc39ad2-3881-44ea-c827-d3564ca51811"
      },
      "outputs": [
        {
          "output_type": "stream",
          "name": "stdout",
          "text": [
            "Concatenated dictionary: {1: 10, 2: 20, 3: 30, 4: 40, 5: 50, 6: 60}\n"
          ]
        }
      ],
      "source": [
        "# write your answer here\n",
        "# Program to concatenate dictionaries\n",
        "\n",
        "# Sample dictionaries\n",
        "dic1 = {1: 10, 2: 20}\n",
        "dic2 = {3: 30, 4: 40}\n",
        "dic3 = {5: 50, 6: 60}\n",
        "\n",
        "# Method 1: Using dictionary unpacking\n",
        "new_dict = {**dic1, **dic2, **dic3}\n",
        "\n",
        "print(\"Concatenated dictionary:\", new_dict)\n"
      ]
    },
    {
      "cell_type": "markdown",
      "source": [
        "## Question 11\n",
        "Design a Python function that takes a tuple of integers as input and returns the largest and smallest elements."
      ],
      "metadata": {
        "id": "bkyZ2xSZUOst"
      }
    },
    {
      "cell_type": "code",
      "source": [
        "# write your answer here\n",
        "# Function to find the largest and smallest elements in a tuple\n",
        "def find_min_max(numbers):\n",
        "    smallest = min(numbers)\n",
        "    largest = max(numbers)\n",
        "    return smallest, largest\n",
        "\n",
        "# Example usage\n",
        "num_tuple = (5, 12, 3, 45, 7, 1, 89)\n",
        "smallest, largest = find_min_max(num_tuple)\n",
        "\n",
        "print(\"Tuple:\", num_tuple)\n",
        "print(\"Smallest element:\", smallest)\n",
        "print(\"Largest element:\", largest)\n"
      ],
      "metadata": {
        "id": "3FdLRBKOUQEd",
        "colab": {
          "base_uri": "https://localhost:8080/"
        },
        "outputId": "25079b32-5fa3-47b2-da3f-2194dab03288"
      },
      "execution_count": 45,
      "outputs": [
        {
          "output_type": "stream",
          "name": "stdout",
          "text": [
            "Tuple: (5, 12, 3, 45, 7, 1, 89)\n",
            "Smallest element: 1\n",
            "Largest element: 89\n"
          ]
        }
      ]
    },
    {
      "cell_type": "markdown",
      "source": [
        "## Question 12\n",
        "Write a Python program that counts the frequency of each character in a given string and stores it in a dictionary."
      ],
      "metadata": {
        "id": "O0TVi3gKUTpp"
      }
    },
    {
      "cell_type": "code",
      "source": [
        "# write your answer here\n",
        "# Program to count frequency of each character in a string\n",
        "\n",
        "# Take input from the user\n",
        "user_string = input(\"Enter a string: \")\n",
        "\n",
        "# Create an empty dictionary\n",
        "char_freq = {}\n",
        "\n",
        "# Loop through each character in the string\n",
        "for char in user_string:\n",
        "    if char in char_freq:\n",
        "        char_freq[char] += 1\n",
        "    else:\n",
        "        char_freq[char] = 1\n",
        "\n",
        "# Display the result\n",
        "print(\"Character frequencies:\", char_freq)\n"
      ],
      "metadata": {
        "id": "lAtfSfZXUU-h",
        "colab": {
          "base_uri": "https://localhost:8080/"
        },
        "outputId": "7c89c55f-2f18-4185-ea3a-a7104b82e322"
      },
      "execution_count": 46,
      "outputs": [
        {
          "output_type": "stream",
          "name": "stdout",
          "text": [
            "Enter a string: programming\n",
            "Character frequencies: {'p': 1, 'r': 2, 'o': 1, 'g': 2, 'a': 1, 'm': 2, 'i': 1, 'n': 1}\n"
          ]
        }
      ]
    },
    {
      "cell_type": "markdown",
      "metadata": {
        "id": "0v48Vqa7FrQh"
      },
      "source": [
        "## Question 13\n",
        "Implement a Python script to identify duplicate elements in a provided array of integers. Return -1 if there are no duplicates."
      ]
    },
    {
      "cell_type": "code",
      "execution_count": 47,
      "metadata": {
        "id": "7WEmgq-DF2P1",
        "colab": {
          "base_uri": "https://localhost:8080/"
        },
        "outputId": "498a44fe-69f4-456b-a460-6a0eb06c7b27"
      },
      "outputs": [
        {
          "output_type": "stream",
          "name": "stdout",
          "text": [
            "Input array: [1, 2, 3, 4, 2, 5, 6, 3, 7]\n",
            "Duplicate elements: [2, 3]\n"
          ]
        }
      ],
      "source": [
        "# write your answer here\n",
        "# Program to identify duplicate elements in an array\n",
        "\n",
        "def find_duplicates(arr):\n",
        "    seen = set()\n",
        "    duplicates = set()\n",
        "\n",
        "    for num in arr:\n",
        "        if num in seen:\n",
        "            duplicates.add(num)\n",
        "        else:\n",
        "            seen.add(num)\n",
        "\n",
        "    # Return result\n",
        "    return list(duplicates) if duplicates else -1\n",
        "\n",
        "\n",
        "# Example usage\n",
        "arr = [1, 2, 3, 4, 2, 5, 6, 3, 7]\n",
        "\n",
        "result = find_duplicates(arr)\n",
        "\n",
        "print(\"Input array:\", arr)\n",
        "print(\"Duplicate elements:\" if result != -1 else \"No duplicates found\", result)\n"
      ]
    },
    {
      "cell_type": "markdown",
      "metadata": {
        "id": "vD5PYLMuGga_"
      },
      "source": [
        "## Question 14\n",
        "Write a Python script to find the common elements between two lists."
      ]
    },
    {
      "cell_type": "code",
      "execution_count": 50,
      "metadata": {
        "id": "t0D5kdJUGjjw",
        "colab": {
          "base_uri": "https://localhost:8080/"
        },
        "outputId": "76b60f4e-9f93-4aa5-fbf7-197c6a3a4d6f"
      },
      "outputs": [
        {
          "output_type": "stream",
          "name": "stdout",
          "text": [
            "Enter elements of first list (comma-separated): 1, 2, 3, 4, 5\n",
            "Enter elements of second list (comma-separated): 3, 4, 5, 6, 7\n",
            "Common elements: ['5', '4', '3']\n"
          ]
        }
      ],
      "source": [
        "# write your answer here\n",
        "# Program to find common elements between two lists\n",
        "\n",
        "# Take input from the user\n",
        "list1 = input(\"Enter elements of first list (comma-separated): \").split(\",\")\n",
        "list2 = input(\"Enter elements of second list (comma-separated): \").split(\",\")\n",
        "\n",
        "# Convert string inputs to integers (optional, if working with numbers)\n",
        "list1 = [x.strip() for x in list1]\n",
        "list2 = [x.strip() for x in list2]\n",
        "\n",
        "# Find common elements using set intersection\n",
        "common_elements = list(set(list1) & set(list2))\n",
        "\n",
        "# Display result\n",
        "if common_elements:\n",
        "    print(\"Common elements:\", common_elements)\n",
        "else:\n",
        "    print(\"No common elements found.\")\n"
      ]
    },
    {
      "cell_type": "markdown",
      "metadata": {
        "id": "uHkd-y5VhVWC"
      },
      "source": [
        "## Question 15\n",
        "Write a Python program to randomly divide the students in this class into maximum of eight groups for term projects, each group should have at least 4 students but no more than 6 students (including 6).\n",
        "\n",
        "Here is the students list:\n",
        "\n",
        "student_list_spring_2024=[rb0846,\n",
        "ac1964,\n",
        "hc0612,\n",
        "md0912,\n",
        "ad1198,\n",
        "md0894,\n",
        "md0825,\n",
        "vg0598,\n",
        "vg0433,\n",
        "mh1068,\n",
        "yj0173,\n",
        "pk0553,\n",
        "tk0411,\n",
        "srk0204,\n",
        "sk2922,\n",
        "sk2936,\n",
        "mk1302,\n",
        "mk1317,\n",
        "tk0412,\n",
        "vk0656,\n",
        "sm2985,\n",
        "mm2372,\n",
        "un0045,\n",
        "an0892,\n",
        "sn0913,\n",
        "gp0252,\n",
        "ap1484,\n",
        "mr1765,\n",
        "sr1385,\n",
        "sr1335,\n",
        "hs0665,\n",
        "ms2060,\n",
        "gt0217,\n",
        "nt0385,\n",
        "tv0186,\n",
        "sv1394,\n",
        "sv1752,\n",
        "sv1555,\n",
        "sy0594\n",
        "]\n"
      ]
    },
    {
      "cell_type": "code",
      "execution_count": 51,
      "metadata": {
        "id": "3iGbmcOBhTwy",
        "colab": {
          "base_uri": "https://localhost:8080/"
        },
        "outputId": "7af1e55c-4078-4ab9-a064-1ede905622d1"
      },
      "outputs": [
        {
          "output_type": "stream",
          "name": "stdout",
          "text": [
            "Group 1 (6 students): ['md0825', 'sv1752', 'sk2936', 'mm2372', 'sv1555', 'sr1335']\n",
            "Group 2 (5 students): ['tv0186', 'sv1394', 'sr1385', 'ac1964', 'hc0612']\n",
            "Group 3 (6 students): ['mk1317', 'sy0594', 'an0892', 'tk0411', 'mh1068', 'nt0385']\n",
            "Group 4 (5 students): ['ad1198', 'vk0656', 'rb0846', 'hs0665', 'gp0252']\n",
            "Group 5 (6 students): ['ap1484', 'vg0433', 'ms2060', 'tk0412', 'pk0553', 'sm2985']\n",
            "Group 6 (6 students): ['mk1302', 'vg0598', 'un0045', 'md0912', 'srk0204', 'sn0913']\n",
            "Group 7 (5 students): ['sk2922', 'gt0217', 'mr1765', 'yj0173', 'md0894']\n"
          ]
        }
      ],
      "source": [
        "import random\n",
        "import math\n",
        "\n",
        "# --- Student list (as strings) ---\n",
        "student_list_spring_2024 = [\n",
        "    \"rb0846\",\"ac1964\",\"hc0612\",\"md0912\",\"ad1198\",\"md0894\",\"md0825\",\"vg0598\",\"vg0433\",\n",
        "    \"mh1068\",\"yj0173\",\"pk0553\",\"tk0411\",\"srk0204\",\"sk2922\",\"sk2936\",\"mk1302\",\"mk1317\",\n",
        "    \"tk0412\",\"vk0656\",\"sm2985\",\"mm2372\",\"un0045\",\"an0892\",\"sn0913\",\"gp0252\",\"ap1484\",\n",
        "    \"mr1765\",\"sr1385\",\"sr1335\",\"hs0665\",\"ms2060\",\"gt0217\",\"nt0385\",\"tv0186\",\"sv1394\",\n",
        "    \"sv1752\",\"sv1555\",\"sy0594\"\n",
        "]\n",
        "\n",
        "def make_groups(students, min_size=4, max_size=6, max_groups=8, seed=None):\n",
        "    if seed is not None:\n",
        "        random.seed(seed)\n",
        "\n",
        "    n = len(students)\n",
        "    if n < min_size:\n",
        "        raise ValueError(\"Not enough students to form a group.\")\n",
        "\n",
        "    # Determine feasible range for number of groups\n",
        "    min_groups = math.ceil(n / max_size)               # at least this many to not exceed max_size\n",
        "    max_groups_feasible = min(max_groups, n // min_size)  # at most this many to keep >= min_size\n",
        "\n",
        "    if min_groups > max_groups_feasible:\n",
        "        raise ValueError(\"Cannot satisfy group size constraints with given limits.\")\n",
        "\n",
        "    # Randomly choose a number of groups within feasible bounds\n",
        "    k = random.randint(min_groups, max_groups_feasible)\n",
        "\n",
        "    # Start with k groups of min_size, then distribute the remainder (each group can get +0..(max_size-min_size))\n",
        "    sizes = [min_size] * k\n",
        "    remainder = n - k * min_size  # how many extra students to distribute\n",
        "\n",
        "    # Distribute remainder randomly, not exceeding max_size\n",
        "    indices = list(range(k))\n",
        "    while remainder > 0:\n",
        "        random.shuffle(indices)\n",
        "        for i in indices:\n",
        "            if remainder == 0:\n",
        "                break\n",
        "            if sizes[i] < max_size:\n",
        "                sizes[i] += 1\n",
        "                remainder -= 1\n",
        "\n",
        "    # Shuffle students and assign to groups by the computed sizes\n",
        "    students_shuffled = students[:]\n",
        "    random.shuffle(students_shuffled)\n",
        "\n",
        "    groups = []\n",
        "    start = 0\n",
        "    for sz in sizes:\n",
        "        groups.append(students_shuffled[start:start + sz])\n",
        "        start += sz\n",
        "\n",
        "    # (Optional) sanity checks\n",
        "    assert sum(len(g) for g in groups) == n\n",
        "    assert all(min_size <= len(g) <= max_size for g in groups)\n",
        "    assert len(groups) <= max_groups\n",
        "\n",
        "    return groups\n",
        "\n",
        "# ---- Run and print groups ----\n",
        "groups = make_groups(student_list_spring_2024, min_size=4, max_size=6, max_groups=8, seed=None)  # set seed=42 for reproducibility\n",
        "\n",
        "for idx, g in enumerate(groups, start=1):\n",
        "    print(f\"Group {idx} ({len(g)} students): {g}\")\n"
      ]
    },
    {
      "cell_type": "markdown",
      "metadata": {
        "id": "fmZ9vX20Qs3d"
      },
      "source": [
        "## Question 16\n",
        "Create a program that takes a positive integer 'n' as input and prints the count of even numbers from 1 to 'n'. Optimize the loop using the continue statement."
      ]
    },
    {
      "cell_type": "code",
      "execution_count": 52,
      "metadata": {
        "id": "W8Jw6sWMQs3d",
        "colab": {
          "base_uri": "https://localhost:8080/"
        },
        "outputId": "3fbb54fb-96ec-4f5c-c311-b8e9810c4eb6"
      },
      "outputs": [
        {
          "output_type": "stream",
          "name": "stdout",
          "text": [
            "Enter a positive integer: 10\n",
            "The count of even numbers from 1 to 10 is: 5\n"
          ]
        }
      ],
      "source": [
        "# write your answer here\n",
        "# Program to count even numbers from 1 to n using continue\n",
        "\n",
        "# Take input from the user\n",
        "n = int(input(\"Enter a positive integer: \"))\n",
        "\n",
        "count = 0\n",
        "\n",
        "# Loop through numbers from 1 to n\n",
        "for i in range(1, n + 1):\n",
        "    if i % 2 != 0:   # if odd, skip\n",
        "        continue\n",
        "    count += 1\n",
        "\n",
        "# Display the result\n",
        "print(f\"The count of even numbers from 1 to {n} is: {count}\")\n"
      ]
    },
    {
      "cell_type": "markdown",
      "metadata": {
        "id": "hvq4APMhQs3d"
      },
      "source": [
        "## Question 17\n",
        "Develop a Python function called 'count_vowels' that takes a string as input and returns the count of vowels (both lowercase and uppercase) present in the string, ignoring spaces and non-alphabetic characters."
      ]
    },
    {
      "cell_type": "code",
      "execution_count": 53,
      "metadata": {
        "id": "ZnoxhSglQs3d",
        "colab": {
          "base_uri": "https://localhost:8080/"
        },
        "outputId": "fabf789d-58fd-43fc-f98d-efa3f06cd32b"
      },
      "outputs": [
        {
          "output_type": "stream",
          "name": "stdout",
          "text": [
            "Input string: OpenAI develops AI solutions!\n",
            "Number of vowels: 13\n"
          ]
        }
      ],
      "source": [
        "# write your answer here\n",
        "# Function to count vowels in a string\n",
        "def count_vowels(text):\n",
        "    vowels = \"aeiouAEIOU\"\n",
        "    count = 0\n",
        "    for ch in text:\n",
        "        if ch.isalpha() and ch in vowels:  # only consider alphabetic characters\n",
        "            count += 1\n",
        "    return count\n",
        "\n",
        "# Example usage\n",
        "sample = \"OpenAI develops AI solutions!\"\n",
        "print(\"Input string:\", sample)\n",
        "print(\"Number of vowels:\", count_vowels(sample))\n"
      ]
    },
    {
      "cell_type": "markdown",
      "source": [
        "## Question 18\n",
        "Create a custom exception named ValueTooSmallError in Python. Write a program that takes user input for an age, and if the entered age is less than 18, raise the ValueTooSmallError with an appropriate error message."
      ],
      "metadata": {
        "id": "55FWoSJPVVM6"
      }
    },
    {
      "cell_type": "code",
      "source": [
        "# write your answer here\n",
        "# Custom Exception Class\n",
        "class ValueTooSmallError(Exception):\n",
        "    \"\"\"Exception raised when the input value is too small.\"\"\"\n",
        "    pass\n",
        "\n",
        "# Program to check age\n",
        "try:\n",
        "    age = int(input(\"Enter your age: \"))\n",
        "    if age < 18:\n",
        "        raise ValueTooSmallError(\"Age must be at least 18.\")\n",
        "    print(\"Age accepted:\", age)\n",
        "\n",
        "except ValueTooSmallError as e:\n",
        "    print(\"Error:\", e)\n",
        "\n",
        "except ValueError:\n",
        "    print(\"Error: Please enter a valid integer for age.\")\n",
        "\n"
      ],
      "metadata": {
        "id": "hwtr1wZmVX5A",
        "colab": {
          "base_uri": "https://localhost:8080/"
        },
        "outputId": "156ea76b-7fc9-4036-ce48-012067afe762"
      },
      "execution_count": 54,
      "outputs": [
        {
          "output_type": "stream",
          "name": "stdout",
          "text": [
            "Enter your age: 4\n",
            "Error: Age must be at least 18.\n"
          ]
        }
      ]
    },
    {
      "cell_type": "markdown",
      "source": [
        "## Question 19\n",
        "Develop a script that reverses a given string without using built-in reverse functions."
      ],
      "metadata": {
        "id": "Q9ecagcaVazW"
      }
    },
    {
      "cell_type": "code",
      "source": [
        "# write your answer here\n",
        "\n",
        "# Program to reverse a string without built-in reverse functions\n",
        "\n",
        "# Take input from the user\n",
        "user_string = input(\"Enter a string: \")\n",
        "\n",
        "# Initialize an empty string for the result\n",
        "reversed_string = \"\"\n",
        "\n",
        "# Loop through characters from end to start\n",
        "for char in user_string:\n",
        "    reversed_string = char + reversed_string   # prepend each character\n",
        "\n",
        "# Display the result\n",
        "print(\"Reversed string:\", reversed_string)\n"
      ],
      "metadata": {
        "id": "gycgckoAVZjR",
        "colab": {
          "base_uri": "https://localhost:8080/"
        },
        "outputId": "0324c587-53f9-47ef-d26c-86ec149c25c1"
      },
      "execution_count": 57,
      "outputs": [
        {
          "output_type": "stream",
          "name": "stdout",
          "text": [
            "Enter a string: Chen\n",
            "Reversed string: nehC\n"
          ]
        }
      ]
    },
    {
      "cell_type": "markdown",
      "source": [
        "## Question 20\n",
        "Implement a Python script to generate a random password of a specified length."
      ],
      "metadata": {
        "id": "ZFG6RibifMLu"
      }
    },
    {
      "cell_type": "code",
      "source": [
        "# write your answer here\n",
        "import random\n",
        "import string\n",
        "\n",
        "# Function to generate random password\n",
        "def generate_password(length):\n",
        "    # Define the pool of characters (letters, digits, punctuation)\n",
        "    characters = string.ascii_letters + string.digits + string.punctuation\n",
        "\n",
        "    # Randomly select characters\n",
        "    password = ''.join(random.choice(characters) for _ in range(length))\n",
        "    return password\n",
        "\n",
        "# Example usage\n",
        "try:\n",
        "    length = int(input(\"Enter the desired password length: \"))\n",
        "    if length <= 0:\n",
        "        print(\"Password length must be greater than 0.\")\n",
        "    else:\n",
        "        print(\"Generated password:\", generate_password(length))\n",
        "except ValueError:\n",
        "    print(\"Please enter a valid integer for password length.\")\n"
      ],
      "metadata": {
        "id": "BFVrkEi9fNiD",
        "colab": {
          "base_uri": "https://localhost:8080/"
        },
        "outputId": "d5bb5b7a-5929-44a9-c766-7ddcd23e286f"
      },
      "execution_count": 58,
      "outputs": [
        {
          "output_type": "stream",
          "name": "stdout",
          "text": [
            "Enter the desired password length: 12\n",
            "Generated password: $WGY%-8yn~@Z\n"
          ]
        }
      ]
    },
    {
      "cell_type": "markdown",
      "source": [
        "# Try these questions"
      ],
      "metadata": {
        "id": "6SmvS7nSfbj8"
      }
    },
    {
      "cell_type": "markdown",
      "source": [
        "(21) Define a base class called 'Vehicle' with attributes make and model. Create a derived class Car that inherits from Vehicle and has an additional attribute 'num_doors'. Demonstrate an example of creating an instance of the 'Car' class and accessing its attributes.:"
      ],
      "metadata": {
        "id": "cboAr5pEWUf5"
      }
    },
    {
      "cell_type": "code",
      "source": [
        "# Base class\n",
        "class Vehicle:\n",
        "    def __init__(self, make, model):\n",
        "        self.make = make\n",
        "        self.model = model\n",
        "\n",
        "# Derived class\n",
        "class Car(Vehicle):\n",
        "    def __init__(self, make, model, num_doors):\n",
        "        # Call the constructor of the base class\n",
        "        super().__init__(make, model)\n",
        "        self.num_doors = num_doors\n",
        "\n",
        "# Example usage\n",
        "my_car = Car(\"Toyota\", \"Camry\", 4)\n",
        "\n",
        "# Access attributes\n",
        "print(\"Make:\", my_car.make)\n",
        "print(\"Model:\", my_car.model)\n",
        "print(\"Number of doors:\", my_car.num_doors)\n"
      ],
      "metadata": {
        "id": "phs9gciMWWAW",
        "colab": {
          "base_uri": "https://localhost:8080/"
        },
        "outputId": "8f56b4dd-1e21-4c83-f55f-52bb871736ca"
      },
      "execution_count": 60,
      "outputs": [
        {
          "output_type": "stream",
          "name": "stdout",
          "text": [
            "Make: Toyota\n",
            "Model: Camry\n",
            "Number of doors: 4\n"
          ]
        }
      ]
    },
    {
      "cell_type": "markdown",
      "source": [
        "(22) Create a class called 'Shape' with a method calculate_area(). Implement two derived classes 'Circle' and 'Rectangle' that inherit from Shape and override the calculate_area() method. Demonstrate polymorphism by creating instances of both derived classes and calling the calculate_area() method."
      ],
      "metadata": {
        "id": "J8HHefNtePwd"
      }
    },
    {
      "cell_type": "code",
      "source": [
        "# write your answer here\n",
        "import math\n",
        "\n",
        "# Base class\n",
        "class Shape:\n",
        "    def calculate_area(self):\n",
        "        raise NotImplementedError(\"Subclasses must override this method\")\n",
        "\n",
        "# Derived class: Circle\n",
        "class Circle(Shape):\n",
        "    def __init__(self, radius):\n",
        "        self.radius = radius\n",
        "\n",
        "    def calculate_area(self):\n",
        "        return math.pi * (self.radius ** 2)\n",
        "\n",
        "# Derived class: Rectangle\n",
        "class Rectangle(Shape):\n",
        "    def __init__(self, length, width):\n",
        "        self.length = length\n",
        "        self.width = width\n",
        "\n",
        "    def calculate_area(self):\n",
        "        return self.length * self.width\n",
        "\n",
        "# Demonstration of polymorphism\n",
        "shapes = [\n",
        "    Circle(5),          # Circle with radius 5\n",
        "    Rectangle(4, 6)     # Rectangle with length 4 and width 6\n",
        "]\n",
        "\n",
        "for shape in shapes:\n",
        "    print(f\"{shape.__class__.__name__} area:\", shape.calculate_area())\n"
      ],
      "metadata": {
        "id": "btnMmUZDeRhS",
        "colab": {
          "base_uri": "https://localhost:8080/"
        },
        "outputId": "2d727aea-af92-45f1-de8a-043cd92c2c01"
      },
      "execution_count": 61,
      "outputs": [
        {
          "output_type": "stream",
          "name": "stdout",
          "text": [
            "Circle area: 78.53981633974483\n",
            "Rectangle area: 24\n"
          ]
        }
      ]
    },
    {
      "cell_type": "markdown",
      "source": [
        "(23) Write a Python program that prompts the user to enter two numbers and perform a division operation. Handle exceptions for both zero division and invalid input (non-numeric input). Display appropriate error messages for each type of exception and ensure the program does not crash due to these errors."
      ],
      "metadata": {
        "id": "z0oqEAlTeMUS"
      }
    },
    {
      "cell_type": "code",
      "source": [
        "# write your answer here\n",
        "# Program to perform division with exception handling\n",
        "\n",
        "try:\n",
        "    # Prompt user for two numbers\n",
        "    num1 = float(input(\"Enter the first number: \"))\n",
        "    num2 = float(input(\"Enter the second number: \"))\n",
        "\n",
        "    # Perform division\n",
        "    result = num1 / num2\n",
        "    print(f\"The result of {num1} / {num2} is: {result}\")\n",
        "\n",
        "except ZeroDivisionError:\n",
        "    print(\"Error: Division by zero is not allowed.\")\n",
        "\n",
        "except ValueError:\n",
        "    print(\"Error: Please enter valid numeric values.\")\n",
        "\n",
        "except Exception as e:\n",
        "    # Catch any other unforeseen errors\n",
        "    print(\"An unexpected error occurred:\", e)\n"
      ],
      "metadata": {
        "id": "yjdc1zM1eMAs",
        "colab": {
          "base_uri": "https://localhost:8080/"
        },
        "outputId": "5d15785e-2f88-4ecd-85db-20e84fadaa2c"
      },
      "execution_count": 62,
      "outputs": [
        {
          "output_type": "stream",
          "name": "stdout",
          "text": [
            "Enter the first number: 10\n",
            "Enter the second number: 20\n",
            "The result of 10.0 / 20.0 is: 0.5\n"
          ]
        }
      ]
    },
    {
      "cell_type": "markdown",
      "source": [
        "# Mandatory Question"
      ],
      "metadata": {
        "id": "sZOhks1dXWEe"
      }
    },
    {
      "cell_type": "markdown",
      "source": [
        "**Important:**\n",
        "Reflecting on the first three lectures and the exercises you've completed, please provide feedback on your learning experience. Share your thoughts on whether the material covered was clear, the exercises were helpful, and if you feel more confident in applying Python programming concepts. Additionally, mention any specific areas where you would like more clarification or topics you would like to explore further in future lectures. Your feedback is valuable in shaping the course for an effective learning journey."
      ],
      "metadata": {
        "id": "eqmHVEwaWhbV"
      }
    },
    {
      "cell_type": "code",
      "source": [
        "\n",
        "print('Everything was perfect! The lessons were clear, the exercises were fun. Excited to keep learning from you Dr Chen!')"
      ],
      "metadata": {
        "id": "akAVJn9YBTQT",
        "colab": {
          "base_uri": "https://localhost:8080/"
        },
        "outputId": "ca1316bc-7729-4264-cac0-89b5ddd43d6a"
      },
      "execution_count": 65,
      "outputs": [
        {
          "output_type": "stream",
          "name": "stdout",
          "text": [
            "Everything was perfect! The lessons were clear, the exercises were fun. Excited to keep learning from you Dr Chen!\n"
          ]
        }
      ]
    },
    {
      "cell_type": "code",
      "source": [],
      "metadata": {
        "id": "0Slyl2r60fQ7"
      },
      "execution_count": 25,
      "outputs": []
    }
  ],
  "metadata": {
    "colab": {
      "provenance": [],
      "collapsed_sections": [
        "FBKvD6O_TY6e",
        "E9RqrlwdTfvl",
        "03jb4GZsBkBS",
        "jJDe71iLB616",
        "55W9AMdXCSpV",
        "4ulBZ6yhCi9F",
        "6SmvS7nSfbj8",
        "sZOhks1dXWEe"
      ],
      "include_colab_link": true
    },
    "kernelspec": {
      "display_name": "Python 3 (ipykernel)",
      "language": "python",
      "name": "python3"
    },
    "language_info": {
      "codemirror_mode": {
        "name": "ipython",
        "version": 3
      },
      "file_extension": ".py",
      "mimetype": "text/x-python",
      "name": "python",
      "nbconvert_exporter": "python",
      "pygments_lexer": "ipython3",
      "version": "3.9.12"
    }
  },
  "nbformat": 4,
  "nbformat_minor": 0
}